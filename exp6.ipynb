import numpy as np
import matplotlib.pyplot as plt

def lwr(xq, X, y, tau):
    Xb = np.c_[np.ones(len(X)), X]
    xq = np.array([1, xq])
    W = np.diag(np.exp(-np.sum((Xb - xq)**2, axis=1) / (2 * tau**2)))
    theta = np.linalg.pinv(Xb.T @ W @ Xb) @ Xb.T @ W @ y
    return xq @ theta

def plot_lwr(X, y, tau):
    X_test = np.linspace(X.min(), X.max(), 100)
    y_pred = [lwr(xq, X, y, tau) for xq in X_test]
    plt.scatter(X, y, c='blue', label='Data')
    plt.plot(X_test, y_pred, c='red', label=f'LWR (tau={tau})')
    plt.title(f'LWR Curve (tau={tau})')
    plt.xlabel('X'), plt.ylabel('y'), plt.grid(alpha=0.3)
    plt.legend(), plt.show()

# Generate data
np.random.seed(42)
X = np.linspace(0, 10, 100)
y = np.sin(X) + np.random.normal(0, 0.2, size=X.shape)

for tau in [0.1, 0.5, 1.0, 5.0]:
    plot_lwr(X, y, tau)
